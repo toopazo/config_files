{
 "cells": [
  {
   "cell_type": "code",
   "execution_count": 1,
   "metadata": {},
   "outputs": [
    {
     "name": "stdout",
     "output_type": "stream",
     "text": [
      "\u001b[0m\u001b[01;32mapt-remove-duplicate-source-entries.py\u001b[0m*  \u001b[01;32minstall_kicad.sh\u001b[0m*\r\n",
      "\u001b[01;32mclean_system.sh\u001b[0m*                         \u001b[01;32minstall_python_libs.sh\u001b[0m*\r\n",
      "\u001b[01;32mcommon_functions.sh\u001b[0m*                     \u001b[01;32minstall_rasperry_commons.sh\u001b[0m*\r\n",
      "\u001b[01;32mcron_minutes.py\u001b[0m*                         \u001b[01;32minstall_repos.sh\u001b[0m*\r\n",
      "\u001b[01;32mcron_reboot.sh\u001b[0m*                          \u001b[01;32minstall_ros_kinetic.sh\u001b[0m*\r\n",
      "\u001b[01;32mdropbox.py\u001b[0m*                              \u001b[01;34mpdfsandwich-0.1.6\u001b[0m/\r\n",
      "\u001b[01;32mfiles_in_folder_processor.py\u001b[0m*            \u001b[01;34mtest\u001b[0m/\r\n",
      "\u001b[01;32minstall_commons.sh\u001b[0m*                      \u001b[01;32mtmux_default_session.sh\u001b[0m*\r\n",
      "\u001b[01;32minstall_config_files.sh\u001b[0m*                 Untitled.ipynb\r\n",
      "\u001b[01;32minstall_downloaded.sh\u001b[0m*\r\n"
     ]
    }
   ],
   "source": [
    "ls"
   ]
  },
  {
   "cell_type": "code",
   "execution_count": 13,
   "metadata": {
    "scrolled": false
   },
   "outputs": [
    {
     "name": "stdout",
     "output_type": "stream",
     "text": [
      "folder = /mnt/sda4/Dropbox/linuxConf/scripts\n",
      "extension = .py\n",
      "file[0] = apt-remove-duplicate-source-entries.py\n",
      "file[1] = cron_minutes.py\n",
      "file[2] = dropbox.py\n",
      "file[3] = files_in_folder_processor.py\n",
      "--------------------\n",
      "ls -la /mnt/sda4/Dropbox/linuxConf/scripts/apt-remove-duplicate-source-entries.py\n",
      "return value 0\n",
      "--------------------\n",
      "ls -la /mnt/sda4/Dropbox/linuxConf/scripts/cron_minutes.py\n",
      "return value 0\n",
      "--------------------\n",
      "ls -la /mnt/sda4/Dropbox/linuxConf/scripts/dropbox.py\n",
      "return value 0\n",
      "--------------------\n",
      "ls -la /mnt/sda4/Dropbox/linuxConf/scripts/files_in_folder_processor.py\n",
      "return value 0\n",
      "--------------------\n"
     ]
    }
   ],
   "source": [
    "%run files_in_folder_processor ."
   ]
  },
  {
   "cell_type": "code",
   "execution_count": null,
   "metadata": {},
   "outputs": [],
   "source": []
  },
  {
   "cell_type": "code",
   "execution_count": null,
   "metadata": {
    "collapsed": true
   },
   "outputs": [],
   "source": []
  }
 ],
 "metadata": {
  "kernelspec": {
   "display_name": "Python 3",
   "language": "python",
   "name": "python3"
  },
  "language_info": {
   "codemirror_mode": {
    "name": "ipython",
    "version": 3
   },
   "file_extension": ".py",
   "mimetype": "text/x-python",
   "name": "python",
   "nbconvert_exporter": "python",
   "pygments_lexer": "ipython3",
   "version": "3.6.3"
  }
 },
 "nbformat": 4,
 "nbformat_minor": 2
}
